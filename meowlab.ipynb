{
 "cells": [
  {
   "cell_type": "markdown",
   "id": "c6175159",
   "metadata": {},
   "source": [
    "# MeowLab\n",
    "\n",
    "> cat可能是你最常用的命令行工具之一，但是可能很少有人会关注cat的性能问题。\n",
    "> \n",
    "> 但实际上，cat可能比你想的更加高效。在这个lab中，我们会一起来探索cat如此高效的秘密。"
   ]
  },
  {
   "cell_type": "markdown",
   "id": "ef876965",
   "metadata": {},
   "source": [
    "## 什么是cat\n",
    "\n",
    "对于大部分同学来说，这个问题有些太trivial了。但是以防万一，还是在这里介绍一下，cat是一个GNU coreutils中的一个程序，它的作用是连接(con**cat**enate)一系列文件，并将其输出到标准输出流(stdout)中。\n",
    "\n",
    "> 如果你愿意去找，你会发现这个lab中所有的代码都可以在GNU coreutils中找到，或者你用某个大模型，它可能也能写得不错。\n",
    "> 但是，除了写代码以外，这个lab中也会包含一些分析和讨论。因此即使你选择直接去抄GNU coreutils中的代码，也不要直接不加思考的复制粘贴。"
   ]
  },
  {
   "cell_type": "markdown",
   "id": "be33179e",
   "metadata": {},
   "source": [
    "## 环境要求\n",
    "\n",
    "* 操作系统：Linux（任何包含GNU coreutils的发行版）\n",
    "* 编译器：本lab允许使用C/C++或者Rust，选择你喜欢的任何编译器即可。\n",
    "* Python3.x：本lab一些地方需要你画图，推荐你使用matplotlib。另外，我们使用一个简单的脚本来生成测试文件。"
   ]
  },
  {
   "cell_type": "markdown",
   "id": "c6d3e510",
   "metadata": {},
   "source": [
    "## 在开始之前\n",
    "\n",
    "这个项目的所有代码需要你自己动手来写，我们只提供了一个用于生成测试文件的脚本。\n",
    "\n",
    "为了展示比较明显的测试效果，我们会生成一个2GB的测试文件，请确保你的磁盘拥有足够的空间。你可以运行下面这个单元格来查看你的电脑是否有足够的空间。这里我们使用了`df`命令，这个命令的作用是查看某个文件系统所在的磁盘的使用量。"
   ]
  },
  {
   "cell_type": "code",
   "execution_count": 9,
   "id": "95af3977",
   "metadata": {},
   "outputs": [],
   "source": [
    "import os\n",
    "os.environ['PATH'] = f\"{os.environ['HOME']}/.cargo/bin:{os.environ['PATH']}\""
   ]
  },
  {
   "cell_type": "code",
   "execution_count": 10,
   "id": "14021422",
   "metadata": {},
   "outputs": [
    {
     "name": "stdout",
     "output_type": "stream",
     "text": [
      "Filesystem      Size  Used Avail Use% Mounted on\n",
      "/dev/sdc       1007G   12G  944G   2% /\n",
      "Disk space is sufficient: 944G\n"
     ]
    }
   ],
   "source": [
    "%%bash\n",
    "df -h /\n",
    "\n",
    "avail=$(df -h / | awk 'NR==2 {print $4}' | grep -o '[0-9.]*')\n",
    "unit=$(df -h / | awk 'NR==2 {print $4}' | grep -o '[a-zA-Z]*')\n",
    "if [[ \"$unit\" == \"M\" || \"$unit\" == \"K\" ]]; then\n",
    "    echo \"Disk space is low: $avail$unit\"\n",
    "elif [[ \"$unit\" == \"T\" ]]; then\n",
    "    echo \"Disk space is sufficient: $avail$unit\"\n",
    "elif [[ \"$unit\" == \"G\" ]]; then\n",
    "    if (( $(echo \"$avail < 10\" | bc -l) )); then\n",
    "        echo \"Disk space is low: $avail$unit\"\n",
    "    else\n",
    "        echo \"Disk space is sufficient: $avail$unit\"\n",
    "    fi\n",
    "else\n",
    "    echo \"Unknown unit: $unit\"\n",
    "fi\n"
   ]
  },
  {
   "cell_type": "markdown",
   "id": "64cc6804",
   "metadata": {},
   "source": [
    "你可以使用我们提供的python脚本来生成测试文件，运行下面的单元格。测试文件的生成可能会花费一定的时间。"
   ]
  },
  {
   "cell_type": "code",
   "execution_count": 11,
   "id": "8ead0359",
   "metadata": {},
   "outputs": [],
   "source": [
    "import random\n",
    "\n",
    "MB = 1024 * 1024\n",
    "\n",
    "# A static seed for reproducibility\n",
    "random.seed(42)\n",
    "\n",
    "with open(\"test.txt\", \"wb\") as f:\n",
    "    for _ in range(2048):\n",
    "        f.write(random.randbytes(1 * MB)) # 1MB of random data"
   ]
  },
  {
   "cell_type": "markdown",
   "id": "a0017028",
   "metadata": {},
   "source": [
    "当前文件夹下面会出现一个大小为2GB的文件`test.txt`。你可以运行下面的单元格来验证。"
   ]
  },
  {
   "cell_type": "code",
   "execution_count": 12,
   "id": "a4bd4bd0",
   "metadata": {},
   "outputs": [
    {
     "name": "stdout",
     "output_type": "stream",
     "text": [
      "-rw-r--r-- 1 slw slw 2.0G Jun 19 15:20 test.txt\n"
     ]
    }
   ],
   "source": [
    "%%bash\n",
    "ls -lh test.txt"
   ]
  },
  {
   "cell_type": "markdown",
   "id": "55fbac6a",
   "metadata": {},
   "source": [
    "最后，我们的lab会需要使用`hyperfine`来测量程序的运行时间。我们推荐你使用`cargo`进行安装。你可以从[Rust官网](https://www.rust-lang.org/zh-CN/learn/get-started)找到安装脚本。如果你的电脑已经安装好了`cargo`，你可以运行下面的单元格来安装`hyperfine`。"
   ]
  },
  {
   "cell_type": "code",
   "execution_count": 14,
   "id": "77f0165a",
   "metadata": {},
   "outputs": [
    {
     "name": "stderr",
     "output_type": "stream",
     "text": [
      "\u001b[1m\u001b[32m    Updating\u001b[0m crates.io index\n",
      "\u001b[1m\u001b[33mwarning\u001b[0m\u001b[1m:\u001b[0m spurious network error (3 tries remaining): [35] SSL connect error (TLS connect error: error:00000000:lib(0)::reason(0))\n",
      "\u001b[1m\u001b[32m Downloading\u001b[0m crates ...\n",
      "\u001b[1m\u001b[33mwarning\u001b[0m\u001b[1m:\u001b[0m spurious network error (3 tries remaining): [35] SSL connect error (TLS connect error: error:00000000:lib(0)::reason(0))\n",
      "\u001b[1m\u001b[33mwarning\u001b[0m\u001b[1m:\u001b[0m spurious network error (2 tries remaining): [35] SSL connect error (TLS connect error: error:00000000:lib(0)::reason(0))\n",
      "\u001b[1m\u001b[33mwarning\u001b[0m\u001b[1m:\u001b[0m spurious network error (1 tries remaining): [35] SSL connect error (TLS connect error: error:00000000:lib(0)::reason(0))\n",
      "\u001b[1m\u001b[32m  Downloaded\u001b[0m hyperfine v1.19.0\n",
      "\u001b[1m\u001b[32m  Installing\u001b[0m hyperfine v1.19.0\n",
      "\u001b[1m\u001b[32m    Updating\u001b[0m crates.io index\n",
      "\u001b[1m\u001b[33mwarning\u001b[0m\u001b[1m:\u001b[0m spurious network error (3 tries remaining): [35] SSL connect error (TLS connect error: error:00000000:lib(0)::reason(0))\n",
      "\u001b[1m\u001b[33mwarning\u001b[0m\u001b[1m:\u001b[0m spurious network error (2 tries remaining): [35] SSL connect error (TLS connect error: error:00000000:lib(0)::reason(0))\n",
      "\u001b[1m\u001b[33mwarning\u001b[0m\u001b[1m:\u001b[0m spurious network error (1 tries remaining): [35] SSL connect error (TLS connect error: error:00000000:lib(0)::reason(0))\n",
      "\u001b[1m\u001b[32m     Locking\u001b[0m 137 packages to latest compatible versions\n",
      "\u001b[1m\u001b[36m      Adding\u001b[0m colored v2.2.0 \u001b[1m\u001b[33m(available: v3.0.0)\u001b[0m\n",
      "\u001b[1m\u001b[36m      Adding\u001b[0m indicatif v0.17.4 \u001b[1m\u001b[33m(available: v0.17.11)\u001b[0m\n",
      "\u001b[1m\u001b[36m      Adding\u001b[0m nix v0.29.0 \u001b[1m\u001b[33m(available: v0.30.1)\u001b[0m\n",
      "\u001b[1m\u001b[36m      Adding\u001b[0m rand v0.8.5 \u001b[1m\u001b[33m(available: v0.9.1)\u001b[0m\n",
      "\u001b[1m\u001b[36m      Adding\u001b[0m windows-sys v0.59.0 \u001b[1m\u001b[33m(available: v0.60.2)\u001b[0m\n",
      "\u001b[1m\u001b[32m Downloading\u001b[0m crates ...\n",
      "\u001b[1m\u001b[32m  Downloaded\u001b[0m cfg_aliases v0.2.1\n",
      "\u001b[1m\u001b[32m  Downloaded\u001b[0m bytecheck_derive v0.6.12\n",
      "\u001b[1m\u001b[33mwarning\u001b[0m\u001b[1m:\u001b[0m spurious network error (3 tries remaining): [35] SSL connect error (TLS connect error: error:00000000:lib(0)::reason(0))\n",
      "\u001b[1m\u001b[32m  Downloaded\u001b[0m autocfg v0.1.8\n",
      "\u001b[1m\u001b[32m  Downloaded\u001b[0m anstyle v1.0.11\n",
      "\u001b[1m\u001b[32m  Downloaded\u001b[0m anstyle-query v1.1.3\n",
      "\u001b[1m\u001b[32m  Downloaded\u001b[0m cfg-if v1.0.1\n",
      "\u001b[1m\u001b[32m  Downloaded\u001b[0m bytecheck v0.6.12\n",
      "\u001b[1m\u001b[32m  Downloaded\u001b[0m borsh-derive v1.5.7\n",
      "\u001b[1m\u001b[32m  Downloaded\u001b[0m ahash v0.7.8\n",
      "\u001b[1m\u001b[32m  Downloaded\u001b[0m num-complex v0.2.4\n",
      "\u001b[1m\u001b[32m  Downloaded\u001b[0m autocfg v1.5.0\n",
      "\u001b[1m\u001b[32m  Downloaded\u001b[0m colorchoice v1.0.4\n",
      "\u001b[1m\u001b[32m  Downloaded\u001b[0m anstyle-parse v0.2.7\n",
      "\u001b[1m\u001b[32m  Downloaded\u001b[0m clap_lex v0.7.5\n",
      "\u001b[1m\u001b[32m  Downloaded\u001b[0m anstream v0.6.19\n",
      "\u001b[1m\u001b[32m  Downloaded\u001b[0m arrayvec v0.7.6\n",
      "\u001b[1m\u001b[32m  Downloaded\u001b[0m clap_complete v4.5.54\n",
      "\u001b[1m\u001b[32m  Downloaded\u001b[0m bitflags v2.9.1\n",
      "\u001b[1m\u001b[32m  Downloaded\u001b[0m clap v4.5.40\n",
      "\u001b[1m\u001b[32m  Downloaded\u001b[0m anyhow v1.0.98\n",
      "\u001b[1m\u001b[32m  Downloaded\u001b[0m rand_chacha v0.3.1\n",
      "\u001b[1m\u001b[32m  Downloaded\u001b[0m rand_core v0.4.2\n",
      "\u001b[1m\u001b[32m  Downloaded\u001b[0m rand_chacha v0.1.1\n",
      "\u001b[1m\u001b[32m  Downloaded\u001b[0m serde_derive v1.0.219\n",
      "\u001b[1m\u001b[32m  Downloaded\u001b[0m rand_hc v0.1.0\n",
      "\u001b[1m\u001b[32m  Downloaded\u001b[0m proc-macro2 v1.0.95\n",
      "\u001b[1m\u001b[33mwarning\u001b[0m\u001b[1m:\u001b[0m spurious network error (3 tries remaining): [35] SSL connect error (TLS connect error: error:00000000:lib(0)::reason(0))\n",
      "\u001b[1m\u001b[32m  Downloaded\u001b[0m is_terminal_polyfill v1.70.1\n",
      "\u001b[1m\u001b[32m  Downloaded\u001b[0m rand_core v0.3.1\n",
      "\u001b[1m\u001b[32m  Downloaded\u001b[0m rkyv_derive v0.7.45\n",
      "\u001b[1m\u001b[32m  Downloaded\u001b[0m utf8parse v0.2.2\n",
      "\u001b[1m\u001b[32m  Downloaded\u001b[0m tinyvec_macros v0.1.1\n",
      "\u001b[1m\u001b[32m  Downloaded\u001b[0m ptr_meta v0.1.4\n",
      "\u001b[1m\u001b[32m  Downloaded\u001b[0m once_cell v1.21.3\n",
      "\u001b[1m\u001b[32m  Downloaded\u001b[0m rand_xorshift v0.1.1\n",
      "\u001b[1m\u001b[32m  Downloaded\u001b[0m num-iter v0.1.45\n",
      "\u001b[1m\u001b[32m  Downloaded\u001b[0m ptr_meta_derive v0.1.4\n",
      "\u001b[1m\u001b[32m  Downloaded\u001b[0m console v0.15.11\n",
      "\u001b[1m\u001b[32m  Downloaded\u001b[0m tinyvec v1.9.0\n",
      "\u001b[1m\u001b[32m  Downloaded\u001b[0m number_prefix v0.4.0\n",
      "\u001b[1m\u001b[32m  Downloaded\u001b[0m equivalent v1.0.2\n",
      "\u001b[1m\u001b[32m  Downloaded\u001b[0m ppv-lite86 v0.2.21\n",
      "\u001b[1m\u001b[32m  Downloaded\u001b[0m tap v1.0.1\n",
      "\u001b[1m\u001b[32m  Downloaded\u001b[0m strsim v0.11.1\n",
      "\u001b[1m\u001b[32m  Downloaded\u001b[0m rand_core v0.6.4\n",
      "\u001b[1m\u001b[32m  Downloaded\u001b[0m num-integer v0.1.46\n",
      "\u001b[1m\u001b[32m  Downloaded\u001b[0m proc-macro-crate v3.3.0\n",
      "\u001b[1m\u001b[32m  Downloaded\u001b[0m thiserror-impl v2.0.12\n",
      "\u001b[1m\u001b[32m  Downloaded\u001b[0m lazy_static v1.5.0\n",
      "\u001b[1m\u001b[32m  Downloaded\u001b[0m funty v2.0.0\n",
      "\u001b[1m\u001b[32m  Downloaded\u001b[0m rand_os v0.1.3\n",
      "\u001b[1m\u001b[32m  Downloaded\u001b[0m rend v0.4.2\n",
      "\u001b[1m\u001b[32m  Downloaded\u001b[0m radium v0.7.0\n",
      "\u001b[1m\u001b[32m  Downloaded\u001b[0m num v0.2.1\n",
      "\u001b[1m\u001b[32m  Downloaded\u001b[0m rand_pcg v0.1.2\n",
      "\u001b[1m\u001b[32m  Downloaded\u001b[0m itoa v1.0.15\n",
      "\u001b[1m\u001b[32m  Downloaded\u001b[0m errno v0.3.12\n",
      "\u001b[1m\u001b[32m  Downloaded\u001b[0m num-rational v0.2.4\n",
      "\u001b[1m\u001b[32m  Downloaded\u001b[0m toml_datetime v0.6.11\n",
      "\u001b[1m\u001b[32m  Downloaded\u001b[0m shell-words v1.1.0\n",
      "\u001b[1m\u001b[32m  Downloaded\u001b[0m rand_jitter v0.1.4\n",
      "\u001b[1m\u001b[32m  Downloaded\u001b[0m rand_isaac v0.1.1\n",
      "\u001b[1m\u001b[32m  Downloaded\u001b[0m terminal_size v0.4.2\n",
      "\u001b[1m\u001b[32m  Downloaded\u001b[0m colored v2.2.0\n",
      "\u001b[1m\u001b[32m  Downloaded\u001b[0m csv-core v0.1.12\n",
      "\u001b[1m\u001b[32m  Downloaded\u001b[0m getrandom v0.2.16\n",
      "\u001b[1m\u001b[32m  Downloaded\u001b[0m quote v1.0.40\n",
      "\u001b[1m\u001b[32m  Downloaded\u001b[0m thiserror v2.0.12\n",
      "\u001b[1m\u001b[32m  Downloaded\u001b[0m seahash v4.1.0\n",
      "\u001b[1m\u001b[32m  Downloaded\u001b[0m num-traits v0.2.19\n",
      "\u001b[1m\u001b[32m  Downloaded\u001b[0m simdutf8 v0.1.5\n",
      "\u001b[1m\u001b[32m  Downloaded\u001b[0m ryu v1.0.20\n",
      "\u001b[1m\u001b[32m  Downloaded\u001b[0m unicode-ident v1.0.18\n",
      "\u001b[1m\u001b[32m  Downloaded\u001b[0m indicatif v0.17.4\n",
      "\u001b[1m\u001b[32m  Downloaded\u001b[0m version_check v0.9.5\n",
      "\u001b[1m\u001b[32m  Downloaded\u001b[0m statistical v1.0.0\n",
      "\u001b[1m\u001b[32m  Downloaded\u001b[0m borsh v1.5.7\n",
      "\u001b[1m\u001b[32m  Downloaded\u001b[0m bytes v1.10.1\n",
      "\u001b[1m\u001b[32m  Downloaded\u001b[0m clap_builder v4.5.40\n",
      "\u001b[1m\u001b[32m  Downloaded\u001b[0m bitvec v1.0.1\n",
      "\u001b[1m\u001b[32m  Downloaded\u001b[0m linux-raw-sys v0.9.4\n",
      "\u001b[1m\u001b[32m  Downloaded\u001b[0m toml_edit v0.22.27\n",
      "\u001b[1m\u001b[32m  Downloaded\u001b[0m serde v1.0.219\n",
      "\u001b[1m\u001b[32m  Downloaded\u001b[0m rustix v1.0.7\n",
      "\u001b[1m\u001b[32m  Downloaded\u001b[0m unicode-width v0.2.1\n",
      "\u001b[1m\u001b[32m  Downloaded\u001b[0m rand v0.8.5\n",
      "\u001b[1m\u001b[32m  Downloaded\u001b[0m num-bigint v0.2.6\n",
      "\u001b[1m\u001b[32m  Downloaded\u001b[0m memchr v2.7.5\n",
      "\u001b[1m\u001b[32m  Downloaded\u001b[0m indexmap v2.9.0\n",
      "\u001b[1m\u001b[32m  Downloaded\u001b[0m rand v0.6.5\n",
      "\u001b[1m\u001b[32m  Downloaded\u001b[0m rkyv v0.7.45\n",
      "\u001b[1m\u001b[32m  Downloaded\u001b[0m hashbrown v0.15.4\n",
      "\u001b[1m\u001b[32m  Downloaded\u001b[0m hashbrown v0.12.3\n",
      "\u001b[1m\u001b[32m  Downloaded\u001b[0m rust_decimal v1.37.2\n",
      "\u001b[1m\u001b[32m  Downloaded\u001b[0m serde_json v1.0.140\n",
      "\u001b[1m\u001b[32m  Downloaded\u001b[0m portable-atomic v1.11.1\n",
      "\u001b[1m\u001b[32m  Downloaded\u001b[0m syn v1.0.109\n",
      "\u001b[1m\u001b[32m  Downloaded\u001b[0m unicode-width v0.1.14\n",
      "\u001b[1m\u001b[32m  Downloaded\u001b[0m syn v2.0.103\n",
      "\u001b[1m\u001b[32m  Downloaded\u001b[0m nix v0.29.0\n",
      "\u001b[1m\u001b[32m  Downloaded\u001b[0m libc v0.2.174\n",
      "\u001b[1m\u001b[32m  Downloaded\u001b[0m csv v1.3.1\n",
      "\u001b[1m\u001b[32m  Downloaded\u001b[0m wyz v0.5.1\n",
      "\u001b[1m\u001b[32m  Downloaded\u001b[0m winnow v0.7.11\n",
      "\u001b[1m\u001b[32m  Downloaded\u001b[0m zerocopy v0.8.26\n",
      "\u001b[1m\u001b[32m  Downloaded\u001b[0m uuid v1.17.0\n",
      "\u001b[1m\u001b[32m   Compiling\u001b[0m autocfg v1.5.0\n",
      "\u001b[1m\u001b[32m   Compiling\u001b[0m rustix v1.0.7\n",
      "\u001b[1m\u001b[32m   Compiling\u001b[0m libc v0.2.174\n",
      "\u001b[1m\u001b[32m   Compiling\u001b[0m proc-macro2 v1.0.95\n",
      "\u001b[1m\u001b[32m   Compiling\u001b[0m rand_core v0.4.2\n",
      "\u001b[1m\u001b[32m   Compiling\u001b[0m unicode-ident v1.0.18\n",
      "\u001b[1m\u001b[32m   Compiling\u001b[0m bitflags v2.9.1\n",
      "\u001b[1m\u001b[32m   Compiling\u001b[0m linux-raw-sys v0.9.4\n",
      "\u001b[1m\u001b[32m   Compiling\u001b[0m utf8parse v0.2.2\n",
      "\u001b[1m\u001b[32m   Compiling\u001b[0m anstyle-query v1.1.3\n",
      "\u001b[1m\u001b[32m   Compiling\u001b[0m anstyle v1.0.11\n",
      "\u001b[1m\u001b[32m   Compiling\u001b[0m is_terminal_polyfill v1.70.1\n",
      "\u001b[1m\u001b[32m   Compiling\u001b[0m colorchoice v1.0.4\n",
      "\u001b[1m\u001b[32m   Compiling\u001b[0m cfg-if v1.0.1\n",
      "\u001b[1m\u001b[32m   Compiling\u001b[0m zerocopy v0.8.26\n",
      "\u001b[1m\u001b[32m   Compiling\u001b[0m strsim v0.11.1\n",
      "\u001b[1m\u001b[32m   Compiling\u001b[0m clap_lex v0.7.5\n",
      "\u001b[1m\u001b[32m   Compiling\u001b[0m serde v1.0.219\n",
      "\u001b[1m\u001b[32m   Compiling\u001b[0m anstyle-parse v0.2.7\n",
      "\u001b[1m\u001b[32m   Compiling\u001b[0m memchr v2.7.5\n",
      "\u001b[1m\u001b[32m   Compiling\u001b[0m portable-atomic v1.11.1\n",
      "\u001b[1m\u001b[32m   Compiling\u001b[0m rand_core v0.3.1\n",
      "\u001b[1m\u001b[32m   Compiling\u001b[0m autocfg v0.1.8\n",
      "\u001b[1m\u001b[32m   Compiling\u001b[0m cfg_aliases v0.2.1\n",
      "\u001b[1m\u001b[32m   Compiling\u001b[0m rand_xorshift v0.1.1\n",
      "\u001b[1m\u001b[32m   Compiling\u001b[0m anstream v0.6.19\n",
      "\u001b[1m\u001b[32m   Compiling\u001b[0m rand_hc v0.1.0\n",
      "\u001b[1m\u001b[32m   Compiling\u001b[0m nix v0.29.0\n",
      "\u001b[1m\u001b[32m   Compiling\u001b[0m rand_isaac v0.1.1\n",
      "\u001b[1m\u001b[32m   Compiling\u001b[0m rand_jitter v0.1.4\n",
      "\u001b[1m\u001b[32m   Compiling\u001b[0m ryu v1.0.20\n",
      "\u001b[1m\u001b[32m   Compiling\u001b[0m unicode-width v0.2.1\n",
      "\u001b[1m\u001b[32m   Compiling\u001b[0m rust_decimal v1.37.2\n",
      "\u001b[1m\u001b[32m   Compiling\u001b[0m num-traits v0.2.19\n",
      "\u001b[1m\u001b[32m   Compiling\u001b[0m num-bigint v0.2.6\n",
      "\u001b[1m\u001b[32m   Compiling\u001b[0m num-rational v0.2.4\n",
      "\u001b[1m\u001b[32m   Compiling\u001b[0m rand_pcg v0.1.2\n",
      "\u001b[1m\u001b[32m   Compiling\u001b[0m rand_chacha v0.1.1\n",
      "\u001b[1m\u001b[32m   Compiling\u001b[0m num-complex v0.2.4\n",
      "\u001b[1m\u001b[32m   Compiling\u001b[0m rand v0.6.5\n",
      "\u001b[1m\u001b[32m   Compiling\u001b[0m anyhow v1.0.98\n",
      "\u001b[1m\u001b[32m   Compiling\u001b[0m once_cell v1.21.3\n",
      "\u001b[1m\u001b[32m   Compiling\u001b[0m itoa v1.0.15\n",
      "\u001b[1m\u001b[32m   Compiling\u001b[0m serde_json v1.0.140\n",
      "\u001b[1m\u001b[32m   Compiling\u001b[0m thiserror v2.0.12\n",
      "\u001b[1m\u001b[32m   Compiling\u001b[0m csv-core v0.1.12\n",
      "\u001b[1m\u001b[32m   Compiling\u001b[0m unicode-width v0.1.14\n",
      "\u001b[1m\u001b[32m   Compiling\u001b[0m arrayvec v0.7.6\n",
      "\u001b[1m\u001b[32m   Compiling\u001b[0m number_prefix v0.4.0\n",
      "\u001b[1m\u001b[32m   Compiling\u001b[0m lazy_static v1.5.0\n",
      "\u001b[1m\u001b[32m   Compiling\u001b[0m colored v2.2.0\n",
      "\u001b[1m\u001b[32m   Compiling\u001b[0m shell-words v1.1.0\n",
      "\u001b[1m\u001b[32m   Compiling\u001b[0m quote v1.0.40\n",
      "\u001b[1m\u001b[32m   Compiling\u001b[0m syn v2.0.103\n",
      "\u001b[1m\u001b[32m   Compiling\u001b[0m terminal_size v0.4.2\n",
      "\u001b[1m\u001b[32m   Compiling\u001b[0m clap_builder v4.5.40\n",
      "\u001b[1m\u001b[32m   Compiling\u001b[0m num-integer v0.1.46\n",
      "\u001b[1m\u001b[32m   Compiling\u001b[0m num-iter v0.1.45\n",
      "\u001b[1m\u001b[32m   Compiling\u001b[0m getrandom v0.2.16\n",
      "\u001b[1m\u001b[32m   Compiling\u001b[0m rand_os v0.1.3\n",
      "\u001b[1m\u001b[32m   Compiling\u001b[0m console v0.15.11\n",
      "\u001b[1m\u001b[32m   Compiling\u001b[0m ppv-lite86 v0.2.21\n",
      "\u001b[1m\u001b[32m   Compiling\u001b[0m rand_core v0.6.4\n",
      "\u001b[1m\u001b[32m   Compiling\u001b[0m indicatif v0.17.4\n",
      "\u001b[1m\u001b[32m   Compiling\u001b[0m rand_chacha v0.3.1\n",
      "\u001b[1m\u001b[32m   Compiling\u001b[0m rand v0.8.5\n",
      "\u001b[1m\u001b[32m   Compiling\u001b[0m clap v4.5.40\n",
      "\u001b[1m\u001b[32m   Compiling\u001b[0m num v0.2.1\n",
      "\u001b[1m\u001b[32m   Compiling\u001b[0m clap_complete v4.5.54\n",
      "\u001b[1m\u001b[32m   Compiling\u001b[0m statistical v1.0.0\n",
      "\u001b[1m\u001b[32m   Compiling\u001b[0m hyperfine v1.19.0\n",
      "\u001b[1m\u001b[32m   Compiling\u001b[0m serde_derive v1.0.219\n",
      "\u001b[1m\u001b[32m   Compiling\u001b[0m thiserror-impl v2.0.12\n",
      "\u001b[1m\u001b[32m   Compiling\u001b[0m csv v1.3.1\n",
      "\u001b[1m\u001b[32m    Finished\u001b[0m `release` profile [optimized] target(s) in 1m 04s\n",
      "\u001b[1m\u001b[32m  Installing\u001b[0m /home/slw/.cargo/bin/hyperfine\n",
      "\u001b[1m\u001b[32m   Installed\u001b[0m package `hyperfine v1.19.0` (executable `hyperfine`)\n"
     ]
    }
   ],
   "source": [
    "%%bash\n",
    "cargo install hyperfine"
   ]
  },
  {
   "cell_type": "markdown",
   "id": "45cefa6f",
   "metadata": {},
   "source": [
    "有了以上的准备工作，我们终于可以开始我们的探索之旅了。"
   ]
  },
  {
   "cell_type": "markdown",
   "id": "9c1afa63",
   "metadata": {},
   "source": [
    "## 任务0: 测量cat的效率\n",
    "\n",
    "你要做的第一个任务十分简单。学习一下如何使用`hyperfine`，并且使用它来测试GNU coreutils中的cat输出我们生成的测试文件`test.txt`的时间。运行下面的单元格来运行测试。"
   ]
  },
  {
   "cell_type": "code",
   "execution_count": 15,
   "id": "4af9a82b",
   "metadata": {},
   "outputs": [
    {
     "name": "stdout",
     "output_type": "stream",
     "text": [
      "Benchmark 1: cat test.txt\n",
      "  Time (mean ± σ):     184.8 ms ±  18.2 ms    [User: 0.4 ms, System: 182.6 ms]\n",
      "  Range (min … max):   168.5 ms … 231.0 ms    15 runs\n",
      " \n"
     ]
    }
   ],
   "source": [
    "%%bash\n",
    "hyperfine --warmup 3 'cat test.txt'"
   ]
  },
  {
   "cell_type": "markdown",
   "id": "cd94fe5a",
   "metadata": {},
   "source": [
    "## 任务1: 写一个最朴素的cat\n",
    "\n",
    "我们现在使用`hyperfine`测量了GNU coreutils中的`cat`的运行效率，但是对于这个运行时间，我们可能并没有什么概念。现在我们将会写一个最朴素的`cat`程序来作为baseline。这个程序需要满足一下要求：\n",
    "1. 把你的源代码命名为`mycat1.c`或者`mycat1.rs`，并且可执行的二进制文件命名为`mycat1`。\n",
    "2. 你的程序接受且只接受一个命令行参数，这个参数是你要读取的文件。\n",
    "3. 你的程序直接使用`read`和`write`系统调用，每次读取并输出一个字符，不使用任何缓冲区。\n",
    "4. 使用`hpyerfine`测量`mycat1`和`cat`运行时间（`mycat1`的运行时间可能会非常长）\n",
    "5. 虽然这是一个很简单的程序，但是请仍然保持系统编程的规范。请在你的代码中进行进行所有必要的错误处理。\n",
    "\n",
    "这个任务不需要在文档中包含任何内容。"
   ]
  },
  {
   "cell_type": "code",
   "execution_count": 20,
   "id": "124223b9",
   "metadata": {},
   "outputs": [
    {
     "name": "stdout",
     "output_type": "stream",
     "text": [
      "Benchmark 1: ./target/mycat1 test.txt\n"
     ]
    },
    {
     "name": "stdout",
     "output_type": "stream",
     "text": [
      "  Time (abs ≡):        586.145 s               [User: 102.741 s, System: 483.382 s]\n",
      " \n"
     ]
    }
   ],
   "source": [
    "%%bash\n",
    "hyperfine --warmup 3 --runs 1 './target/mycat1 test.txt'"
   ]
  },
  {
   "cell_type": "markdown",
   "id": "7105038c",
   "metadata": {},
   "source": [
    "## 任务2: 带有缓冲区的cat\n",
    "\n",
    "如果你正确完成了上面的任务，你会发现，`mycat1`的性能和系统中的`cat`的性能相差甚远。但是经过了ics课程的学习，你肯定已经想到了至少一个解决方案——使用缓冲区。缓冲区可以有效减少反复进行系统调用的性能消耗。但是，我们要面临的第二个问题是：缓冲区的大小应该如何设置呢？我们接下来将一步一步地探索这个问题。\n",
    "\n",
    "我们之前肯定也已经讲过不少涉及IO缓冲区的程序了，它们的缓冲区大小都被设置为多少呢？我相信1024, 4096, 8192一定是比较常见的几个数字。经过ics的学习，我相信你们肯定能说出原因了。那么，这个任务，我们将根据这个原理优化我们的`mycat1`。你至少需要完成下面要求：\n",
    "1. 复制你上一个任务的源代码在上面做修改，并把源代码命名为`mycat2.c`/`mycat2.rs`，可执行二进制文件命名为`mycat2`。\n",
    "2. 写一个`io_blocksize`函数用于确定你的缓冲区的大小，在这个任务中，你可以将缓冲区设置成你当前系统中一个内存页的大小。（注意：你不能假设所有系统中内存页的大小都是4K，请你使用一个系统调用或者标准库中的函数来获取内存页的大小，而不要使用一个固定值。不过允许你使用一个固定值，如果获取内存页发生错误，但是这不应该是一个常见的情况）。\n",
    "3. 使用标准库提供的函数动态分配用于缓冲区的内存。\n",
    "4. 使用`hpyerfine`测量`mycat2`的运行时间\n",
    "5. 请保持系统编程的基本规范。\n",
    "\n",
    "这个任务不需要在文档中包含任何内容。"
   ]
  },
  {
   "cell_type": "code",
   "execution_count": 47,
   "id": "ac23d60f",
   "metadata": {},
   "outputs": [
    {
     "name": "stdout",
     "output_type": "stream",
     "text": [
      "Benchmark 1: ./target/mycat2 test.txt\n"
     ]
    },
    {
     "name": "stdout",
     "output_type": "stream",
     "text": [
      "  Time (mean ± σ):     326.1 ms ±  33.6 ms    [User: 29.4 ms, System: 293.6 ms]\n",
      "  Range (min … max):   278.1 ms … 393.7 ms    10 runs\n",
      " \n"
     ]
    }
   ],
   "source": [
    "%%bash\n",
    "hyperfine --warmup 3 './target/mycat2 test.txt'"
   ]
  },
  {
   "cell_type": "markdown",
   "id": "c5630499",
   "metadata": {},
   "source": [
    "## 任务3: 缓冲区对齐的cat\n",
    "\n",
    "如果你正确完成了上面这个任务，你会发现，添加了缓冲区的`mycat2`性能提升十分显著。但是我们还可以进一步优化。实际上只是添加了缓冲区并且设置缓冲区的大小为内存页的整数倍并不是没有什么太多的意义，这样的设置只是为了这个一个任务做铺垫的。在这个任务中，我们将尝试将我们的缓冲区对齐到系统的内存页。至于为什么要这么做，请大家在自己的文档中分析一下。你至少需要完成以下要求：\n",
    "1. 复制你上一个任务的源代码在上面做修改，并把源代码命名为`mycat3.c`/`mycat3.rs`，可执行二进制文件命名为`mycat3`。\n",
    "2. 写两个函数`char* align_alloc(size_t size)`和`void align_free(void* ptr)`，它们的作用分别是分配一段内存，长度不小于`size`并且返回一个对齐到内存页起始的指针`ptr`，以及给出一个先前从`align_alloc`返回的指针并释放之前分配的内存。\n",
    "3. 利用这两个函数修改你的代码，缓冲区的大小仍然设置成一个内存页的大小。\n",
    "4. 使用`hpyerfine`测量`mycat3`的运行时间\n",
    "5. 请保持系统编程的基本规范。\n",
    "\n",
    "这个任务，你需要在文档中回答以下问题：\n",
    "1. 为什么将缓冲区对齐到系统的内存可能提高性能？你的实验结果支持这个猜想吗？为什么？\n",
    "2. 为什么我们直接使用`malloc`函数分配的内存不能对齐到内存页，即使我们分配的内存大小已经是内存页大小的整数倍了。\n",
    "3. 你是怎么在不知道原始的malloc返回的指针的情况下正确释放内存的？"
   ]
  },
  {
   "cell_type": "code",
   "execution_count": 49,
   "id": "cc9a08fd",
   "metadata": {},
   "outputs": [
    {
     "name": "stdout",
     "output_type": "stream",
     "text": [
      "Benchmark 1: ./target/mycat3 test.txt\n"
     ]
    },
    {
     "name": "stdout",
     "output_type": "stream",
     "text": [
      "  Time (mean ± σ):     308.0 ms ±  16.8 ms    [User: 25.4 ms, System: 282.4 ms]\n",
      "  Range (min … max):   286.5 ms … 342.9 ms    10 runs\n",
      " \n"
     ]
    }
   ],
   "source": [
    "%%bash\n",
    "hyperfine --warmup 3 './target/mycat3 test.txt'"
   ]
  },
  {
   "cell_type": "markdown",
   "id": "45070667",
   "metadata": {},
   "source": [
    "## 任务4: 设置缓冲区大小为文件系统块大小的整数倍的cat\n",
    "\n",
    "由于`cat`是涉及文件操作的，所以我们自然不能离开磁盘操作。我们在课内已经学到过，磁盘操作的基本单位是块。并且因为我们操作磁盘是经过了操作系统的一层抽象的，操作系统的文件系统也定义了一个操作文件的基本单位块，这个块的大小和磁盘的块的大小相关，但不总是相同。因此我们操作文件的时候实际接触到的块大小是文件系统的块大小。如果我们每次读取和写入文件的时候都按照文件系统的块大小来进行，也能提升性能。在这个任务中，你至少需要完成以下要求：\n",
    "1. 复制你上一个任务的源代码在上面做修改，并把源代码命名为`mycat4.c`/`mycat4.rs`，可执行二进制文件命名为`mycat4`。\n",
    "2. 修改你的函数`io_blocksize`，让你的缓冲区大小既考虑到内存页大小也考虑到文件系统的块大小。\n",
    "3. 使用`hyperfine`测量`mycat4`的运行时间。\n",
    "4. 保持系统编程的基本规范。\n",
    "\n",
    "> 在完成这项任务的时候你需要注意以下几点：\n",
    "> 1. 文件系统中的每个文件，块大小不总是相同的。\n",
    "> 2. 有的文件系统可能会给出虚假的块大小，这种虚假的文件块大小可能根本不是2的整数次幂。\n",
    "\n",
    "这个任务，你需要在文档中回答以下问题：\n",
    "1. 为什么在设置缓冲区大小的时候需要考虑到文件系统块的大小的问题？\n",
    "2. 对于上面提到的两个注意事项你是怎么解决的？"
   ]
  },
  {
   "cell_type": "code",
   "execution_count": 53,
   "id": "b1c29621",
   "metadata": {},
   "outputs": [
    {
     "name": "stdout",
     "output_type": "stream",
     "text": [
      "Benchmark 1: ./target/mycat4 test.txt\n"
     ]
    },
    {
     "name": "stdout",
     "output_type": "stream",
     "text": [
      "  Time (mean ± σ):     327.8 ms ±  19.0 ms    [User: 30.1 ms, System: 295.6 ms]\n",
      "  Range (min … max):   307.6 ms … 358.3 ms    10 runs\n",
      " \n"
     ]
    }
   ],
   "source": [
    "%%bash\n",
    "hyperfine --warmup 3 './target/mycat4 test.txt'"
   ]
  },
  {
   "cell_type": "markdown",
   "id": "442bbd60",
   "metadata": {},
   "source": [
    "## 任务5: 考虑系统调用开销情况下的cat\n",
    "\n",
    "如果你正确完成了上面的任务，那么现在你的`cat`已经可以综合考虑内存页大小，内存页对齐和文件系统块大小的因素来设置缓冲区大小了。但是我们会发现，我们自己的`cat`性能仍然不如我们系统中的`cat`。并且如果你尝试过再进一步增大缓冲区的大小，你的`cat`性能还能更高。这是因为我们目前设置的缓冲区大小还不足以掩盖系统调用带来的开销。那么，我们的缓冲区究竟应该设置到什么大小才够呢？其实这个问题，我们仅仅使用理论分析是无法给出答案的，因为答案受到机器的硬件条件，操作系统的涉及等多重不确定因素的影响。但是，我们可以使用实验来解答这个问题。最后，我们还需要做出假设，不考虑上一个任务的注意事项1，也就是我们假设我们文件系统的大部分文件的块大小都一致（你可以使用我们的测试文件的块大小）。因此，设我们在之前的任务中设置的缓冲区大小是buf_size，我们需要通过实验找到一个倍数A，满足以下条件：\n",
    "1. 当缓冲区大小小于A * buf_size的时候，文件的读写速度显著减小\n",
    "2. 当缓冲区大小大于A * buf_size的时候，文件的读写速度并不显著提升\n",
    "最终，我们就可以直接设置我们的`cat`中的缓冲区大小设置成buf_size的固定倍率。在这个任务中，你只少需要完成以下要求：\n",
    "1. 编写一个实验脚本，尽量排除其他因素的影响，测量只在系统调用开销的影响下，你的系统最合适的缓冲区大小。并且给出这个大小下你的系统的读写速率。\n",
    "2. 复制你上一个任务的源代码在上面做修改，并把源代码命名为`mycat5.c`/`mycat5.rs`，可执行二进制文件命名为`mycat5`。\n",
    "3. 利用上面的实验结果，修改你的函数`io_blocksize`。\n",
    "4. 使用`hyperfine`测量`mycat5`的运行时间。\n",
    "5. 保持系统编程的基本规范。\n",
    "\n",
    "> 提示：\n",
    "> 1. `dd`命令可以用于复制一个文件(也就是读取并写入)，你可以使用命令行参数设置它的缓冲区大小，并且程序终止的时候可以报告平均文件读写速度。\n",
    "> 2. Linux系统中存在`/dev`文件系统，这个目录下有很多特殊文件，其中有一些对你来说可能有用。`/dev/null`，你向这个文件写入的内容并不真正写入磁盘，并且不会对你的系统造成任何影响。`/dev/zero`，如果你尝试读取这个文件你会得到源源不断的`\\0x0`，这个文件也并不真正的从磁盘中读取。\n",
    "\n",
    "这个任务，你需要在文档中包括以下内容：\n",
    "1. 解释一下你的实验脚本是怎么设计的。你应该尝试了多种倍率，请将它们的读写速率画成图表包含在文档中。"
   ]
  },
  {
   "cell_type": "code",
   "execution_count": null,
   "id": "412d9b47",
   "metadata": {},
   "outputs": [],
   "source": [
    "%pip install matplotlib"
   ]
  },
  {
   "cell_type": "code",
   "execution_count": 89,
   "id": "9a720e79",
   "metadata": {},
   "outputs": [
    {
     "name": "stdout",
     "output_type": "stream",
     "text": [
      "buf_size:4096\n",
      "基础缓冲区大小: 4096 字节\n",
      "倍数: 1, 缓冲区大小: 4096 字节, 速率: 4348.8 MB/s\n",
      "倍数: 2, 缓冲区大小: 8192 字节, 速率: 7594.1 MB/s\n",
      "倍数: 4, 缓冲区大小: 16384 字节, 速率: 12459.3 MB/s\n",
      "倍数: 8, 缓冲区大小: 32768 字节, 速率: 16988.5 MB/s\n",
      "倍数: 16, 缓冲区大小: 65536 字节, 速率: 20244.9 MB/s\n",
      "倍数: 32, 缓冲区大小: 131072 字节, 速率: 21826.4 MB/s\n",
      "倍数: 64, 缓冲区大小: 262144 字节, 速率: 24673.6 MB/s\n",
      "倍数: 128, 缓冲区大小: 524288 字节, 速率: 24401.1 MB/s\n",
      "倍数: 256, 缓冲区大小: 1048576 字节, 速率: 26814.1 MB/s\n",
      "倍数: 512, 缓冲区大小: 2097152 字节, 速率: 25860.9 MB/s\n",
      "倍数: 1024, 缓冲区大小: 4194304 字节, 速率: 25129.2 MB/s\n",
      "倍数: 2048, 缓冲区大小: 8388608 字节, 速率: 24690.8 MB/s\n",
      "倍数: 4096, 缓冲区大小: 16777216 字节, 速率: 14971.6 MB/s\n",
      "倍数: 8192, 缓冲区大小: 33554432 字节, 速率: 7140.4 MB/s\n"
     ]
    },
    {
     "data": {
      "image/png": "[encoded data removed]",
      "text/plain": [
       "<Figure size 640x480 with 1 Axes>"
      ]
     },
     "metadata": {},
     "output_type": "display_data"
    }
   ],
   "source": [
    "# 请在这里填入你的测试脚本\n",
    "import os\n",
    "import time\n",
    "import sys\n",
    "import math\n",
    "import matplotlib.pyplot as plt\n",
    "# 计算 LCM (最小公倍数)\n",
    "def lcm(a, b):\n",
    "    lcm=max(a,b)\n",
    "    l=min(a,b)\n",
    "    LCM=0\n",
    "    while (LCM % l != 0) :\n",
    "        LCM += lcm\n",
    "    return LCM\n",
    "\n",
    "# 获取 buf_size \n",
    "def get_buf_size(filename=\"test.txt\"):\n",
    "    if not os.path.exists(filename):\n",
    "        print(f\"错误: 未找到 {filename}\")\n",
    "        sys.exit(1)\n",
    "\n",
    "    # 获取页面大小\n",
    "    try:\n",
    "        pagesize = os.sysconf(\"SC_PAGESIZE\")\n",
    "        if pagesize == -1:\n",
    "            pagesize = 4096\n",
    "    except OSError as e:\n",
    "        print(f\"获取页面大小失败: {e}\")\n",
    "        pagesize = 4096\n",
    "\n",
    "    # 获取文件系统块大小\n",
    "    try:\n",
    "        st = os.stat(filename)\n",
    "        fs_blocksize = st.st_blksize\n",
    "        if fs_blocksize <= 0 or (fs_blocksize & (fs_blocksize - 1)) != 0:\n",
    "            print(f\"无效块大小 {fs_blocksize}, 使用页面大小 {pagesize}\")\n",
    "            fs_blocksize = pagesize\n",
    "    except OSError as e:\n",
    "        print(f\"获取文件 {filename} 块失败: {e}, 使用页面大小 {pagesize}\")\n",
    "        fs_blocksize = pagesize\n",
    "\n",
    "    buf_size = pagesize if pagesize>fs_blocksize else fs_blocksize\n",
    "    if buf_size% pagesize != 0 or buf_size % fs_blocksize != 0:\n",
    "        buf_size=lcm(pagesize,fs_blocksize)\n",
    "    print(f\"buf_size:{buf_size}\")\n",
    "    return buf_size\n",
    "def measure_rate(buf_size, data_size=1024*1024*1024): # 1GB\n",
    "    in_fd = os.open(\"/dev/zero\", os.O_RDONLY)\n",
    "    out_fd = os.open(\"/dev/null\", os.O_WRONLY)\n",
    "\n",
    "    start_time = time.time()\n",
    "    total_bytes = 0\n",
    "\n",
    "    while total_bytes < data_size:\n",
    "        chunk = os.read(in_fd, buf_size)\n",
    "        if not chunk:\n",
    "            break\n",
    "        written = 0\n",
    "        while written < len(chunk):\n",
    "            written += os.write(out_fd, chunk[written:])\n",
    "        total_bytes += len(chunk)\n",
    "\n",
    "    elapsed = time.time() - start_time\n",
    "    os.close(in_fd)\n",
    "    os.close(out_fd)\n",
    "\n",
    "    return (data_size / 1024 / 1024 / elapsed) # MB/s\n",
    "\n",
    "# 主实验\n",
    "def run_experiment():\n",
    "    buf_size = get_buf_size()\n",
    "    print(f\"基础缓冲区大小: {buf_size} 字节\")\n",
    "    multiples = [1, 2, 4, 8, 16, 32, 64, 128, 256, 512, 1024, 2048, 4096, 8192]\n",
    "    results = []\n",
    "\n",
    "    for m in multiples:\n",
    "        test_buf_size = buf_size * m\n",
    "        rates = [measure_rate(test_buf_size) for _ in range(3)]\n",
    "        avg_rate = sum(rates) / len(rates)\n",
    "        print(f\"倍数: {m}, 缓冲区大小: {test_buf_size} 字节, 速率: {avg_rate:.1f} MB/s\")\n",
    "        results.append((m, test_buf_size, avg_rate))\n",
    "    \n",
    "    # 绘制图表\n",
    "    multipliers = [r[0] for r in results]\n",
    "    rates = [r[2] for r in results]\n",
    "    plt.plot(multipliers, rates, marker='o')\n",
    "    plt.xlabel('Multiplier (m)')\n",
    "    plt.ylabel('Average Rate (MB/s)')\n",
    "    plt.title('Read/Write Rate vs Multiplier')\n",
    "    plt.grid(True)\n",
    "    plt.show()\n",
    "    return results\n",
    "\n",
    "\n",
    "if __name__ == \"__main__\":\n",
    "    run_experiment()"
   ]
  },
  {
   "cell_type": "code",
   "execution_count": 82,
   "id": "fefb5fdb",
   "metadata": {},
   "outputs": [
    {
     "name": "stdout",
     "output_type": "stream",
     "text": [
      "Benchmark 1: ./target/mycat5 test.txt\n",
      "  Time (mean ± σ):     198.5 ms ±  22.2 ms    [User: 0.5 ms, System: 194.4 ms]\n",
      "  Range (min … max):   178.1 ms … 246.8 ms    12 runs\n",
      " \n"
     ]
    }
   ],
   "source": [
    "%%bash\n",
    "hyperfine --warmup 3 './target/mycat5 test.txt'"
   ]
  },
  {
   "cell_type": "markdown",
   "id": "54bef4af",
   "metadata": {},
   "source": [
    "## 任务6: 使用了系统调用`fdadvice`的cat\n",
    "\n",
    "虽然几乎我们的这个lab都在讨论设置缓冲区大小的问题，但是实际上我们的系统中的`cat`还在其他很多方面做了不少优化。这些优化在多数时候和缓冲区相比都不起决定性作用，但是我们也可以从中学习到不少有趣的技巧。这里我们就只尝试其中一个，使用系统调用`fadvise`。这个系统调用可以提示文件系统我们将会以什么样的模式来读写文件，这样操作系统可以设置合适的readahead窗口为文件的读写做准备。在这个任务中，你需要完成以下要求：\n",
    "1. 复制你上一个任务的源代码在上面做修改，并把源代码命名为`mycat6.c`/`mycat6.rs`，可执行二进制文件命名为`mycat6`。\n",
    "2. 在你的代码中使用`fadvise`进行优化。\n",
    "3. 使用`hyperfine`测量`mycat6`的运行时间。\n",
    "4. 保持系统编程的基本规范。\n",
    "\n",
    "这个任务，你需要在文档中回答以下问题：\n",
    "1. 你是如何设置`fadvise`的参数的？\n",
    "2. 对于顺序读写的情况，文件系统可以如何调整readahead？对于随机读写的情况呢？"
   ]
  },
  {
   "cell_type": "code",
   "execution_count": 84,
   "id": "3aad1e29",
   "metadata": {},
   "outputs": [
    {
     "name": "stdout",
     "output_type": "stream",
     "text": [
      "Benchmark 1: ./target/mycat6 test.txt\n",
      "  Time (mean ± σ):     195.1 ms ±  15.6 ms    [User: 0.6 ms, System: 193.4 ms]\n",
      "  Range (min … max):   178.6 ms … 229.8 ms    13 runs\n",
      " \n"
     ]
    }
   ],
   "source": [
    "%%bash\n",
    "hyperfine --warmup 3 './target/mycat6 test.txt'"
   ]
  },
  {
   "cell_type": "markdown",
   "id": "2c605486",
   "metadata": {},
   "source": [
    "## 任务7: 总结\n",
    "\n",
    "经过了上面的所有任务，我们已经成功探索我们系统中最常用的工具`cat`所使用的各种优化。我相信你对涉及系统IO的编程也有了更深刻的理解。现在请你整理汇总上面每个任务你所写的`mycatx`以及系统的`cat`的测量数据，使用一个柱状图来展示。并且请你分析一下你得到的结果：它们符合你的预期吗？为什么？这个结果给你带来了什么启示？\n",
    "\n",
    "这个任务，你需要在文档中包含以下内容：\n",
    "1. 你的全部实验结果的柱状图。\n",
    "2. 你对上述实验结果的分析。"
   ]
  },
  {
   "cell_type": "code",
   "execution_count": 83,
   "id": "4e293a45",
   "metadata": {},
   "outputs": [
    {
     "data": {
      "image/png": "[encoded data removed]",
      "text/plain": [
       "<Figure size 1000x600 with 1 Axes>"
      ]
     },
     "metadata": {},
     "output_type": "display_data"
    }
   ],
   "source": [
    "# 这里填入你用于画图的python代码\n",
    "import matplotlib.pyplot as plt\n",
    "\n",
    "versions = ['cat', 'mycat1', 'mycat2', 'mycat3', 'mycat4', 'mycat5', 'mycat6']\n",
    "times = [0.184, 586.145, 0.326, 0.308, 0.327, 0.198, 0.194]  # 示例数据(秒)\n",
    "\n",
    "plt.figure(figsize=(10, 6))\n",
    "bars = plt.bar(versions, times, color=['green'] + ['blue']*6)\n",
    "plt.ylabel('Execution Time (s)')\n",
    "plt.title('Performance Comparison of cat Implementations')\n",
    "plt.yscale('log')\n",
    "#plt.grid(True, which=\"both\", ls=\"--\", axis='y')\n",
    "\n",
    "for bar in bars:\n",
    "    height = bar.get_height()\n",
    "    plt.text(bar.get_x() + bar.get_width()/2., height,\n",
    "             f'{height:.3f}s',\n",
    "             ha='center', va='bottom')\n",
    "\n",
    "plt.savefig('performance_comparison.png')\n",
    "plt.show()"
   ]
  }
 ],
 "metadata": {
  "kernelspec": {
   "display_name": "base",
   "language": "python",
   "name": "python3"
  },
  "language_info": {
   "codemirror_mode": {
    "name": "ipython",
    "version": 3
   },
   "file_extension": ".py",
   "mimetype": "text/x-python",
   "name": "python",
   "nbconvert_exporter": "python",
   "pygments_lexer": "ipython3",
   "version": "3.10.12"
  }
 },
 "nbformat": 4,
 "nbformat_minor": 5
}
